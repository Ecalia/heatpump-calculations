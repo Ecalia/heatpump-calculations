{
 "cells": [
  {
   "cell_type": "code",
   "execution_count": 1,
   "metadata": {},
   "outputs": [],
   "source": [
    "wf=\"R290\"\n",
    "%load_ext autoreload\n",
    "%autoreload 2"
   ]
  },
  {
   "attachments": {},
   "cell_type": "markdown",
   "metadata": {},
   "source": [
    "# Vapor injection heat pump\n",
    "The goal of this study is to calculate the impact on COP of multiple injections of vapor into the compressor.\n",
    "There are two rationales for this. \n",
    "1. The vapor injection can cool the compressed gas, reducing the energy required for further compression\n",
    "2. The vapor injection can limit the peak temperature to only a few degrees above the condensation temperature, reducing friction and wear on the compressor due to thermal expansion.\n",
    "\n",
    "In order to achieve most efficient compression, the vapor injection should keep the resulting compression curve as close to the two phase border as possible.\n",
    "\n",
    "The vapor is not used for subcooling but instead directly merged. The study should also compare the performance of two differnt types of expansion device, namely an expansion valve and a turbine."
   ]
  },
  {
   "attachments": {},
   "cell_type": "markdown",
   "metadata": {},
   "source": [
    "# N=0 no vapor injection"
   ]
  },
  {
   "cell_type": "code",
   "execution_count": 4,
   "metadata": {},
   "outputs": [
    {
     "name": "stderr",
     "output_type": "stream",
     "text": [
      "WARNING:root:Reached maximum iteration count (50), calculation stopped. Residual value is 2.78e+02\n"
     ]
    },
    {
     "name": "stdout",
     "output_type": "stream",
     "text": [
      "##### RESULTS (Turbine) #####\n",
      "+------------+-----------+----------+----------+\n",
      "|            |         P |    eta_s |       pr |\n",
      "|------------+-----------+----------+----------|\n",
      "| expander_1 | -6.05e+04 | \u001b[94m8.50e-01\u001b[0m | 1.39e-01 |\n",
      "+------------+-----------+----------+----------+\n",
      "##### RESULTS (HeatExchangerSimple) #####\n",
      "+------------+-----------+----------+----------+-----+-----+------+------+--------+\n",
      "|            |         Q |       pr |     zeta |   D |   L |   ks |   kA |   Tamb |\n",
      "|------------+-----------+----------+----------+-----+-----+------+------+--------|\n",
      "| condenser  | -5.30e+05 | \u001b[94m9.80e-01\u001b[0m | 1.48e+06 | nan | nan |  nan |  nan |    nan |\n",
      "| evaporator |  3.68e+05 | \u001b[94m9.80e-01\u001b[0m | 2.18e+04 | nan | nan |  nan |  nan |    nan |\n",
      "+------------+-----------+----------+----------+-----+-----+------+------+--------+\n",
      "##### RESULTS (CycleCloser) #####\n",
      "+--------------+------------------+-------------------+\n",
      "|              |   mass_deviation |   fluid_deviation |\n",
      "|--------------+------------------+-------------------|\n",
      "| cycle_closer |         0.00e+00 |          0.00e+00 |\n",
      "+--------------+------------------+-------------------+\n",
      "##### RESULTS (Compressor) #####\n",
      "+--------------+----------+----------+----------+--------+\n",
      "|              |        P |    eta_s |       pr |   igva |\n",
      "|--------------+----------+----------+----------+--------|\n",
      "| compressor_1 | 2.22e+05 | \u001b[94m8.48e-01\u001b[0m | 7.49e+00 |    nan |\n",
      "+--------------+----------+----------+----------+--------+\n",
      "##### RESULTS (Connection) #####\n",
      "+-------------------------+-----------+-----------+-----------+------------+\n",
      "|                         |         m |         p |         h |          T |\n",
      "|-------------------------+-----------+-----------+-----------+------------|\n",
      "| cycle_closer-evaporator | 2.000e+00 | 3.523e+00 | 3.795e+02 | -9.388e+00 |\n",
      "| evaporator-compressor_1 | 2.000e+00 | \u001b[94m3.453e+00\u001b[0m | 5.637e+02 | -1.000e+01 |\n",
      "| compressor_1-condenser  | \u001b[94m2.000e+00\u001b[0m | 2.587e+01 | 6.749e+02 |  \u001b[94m8.500e+01\u001b[0m |\n",
      "| condenser-expander_1    | 2.000e+00 | 2.535e+01 | 4.098e+02 |  6.897e+01 |\n",
      "| expander_1-cycle_closer | 2.000e+00 | 3.523e+00 | 3.795e+02 | -9.388e+00 |\n",
      "+-------------------------+-----------+-----------+-----------+------------+\n",
      "COP:  3.273487528938216\n"
     ]
    }
   ],
   "source": [
    "from HPS_vapor_injection import VaporInjectionHeatPumpStudy\n",
    "vapor_injection_study = VaporInjectionHeatPumpStudy(working_fluid=wf, N=0, expansion_device=\"expander\"\n",
    "                                                    ).solve(max_iter=200)\n",
    "print(\"COP: \", vapor_injection_study.calculate_cop())\n",
    "#vapor_injection_study.plot_ts_diag(\"output/multistage_ts_diagram\", x_max=3000)"
   ]
  },
  {
   "attachments": {},
   "cell_type": "markdown",
   "metadata": {},
   "source": [
    "# N=1 vapor injection after first compression stage"
   ]
  },
  {
   "cell_type": "code",
   "execution_count": 14,
   "metadata": {},
   "outputs": [
    {
     "name": "stdout",
     "output_type": "stream",
     "text": [
      "setting pressure of splitter_1-merge_1 to 10.398926178421652\n",
      "##### RESULTS (Valve) #####\n",
      "+------------------+----------+----------+\n",
      "|                  |       pr |     zeta |\n",
      "|------------------+----------+----------|\n",
      "| expansionValve_1 | 3.32e-01 | 5.00e+07 |\n",
      "| expansionValve_2 | 3.39e-01 | 4.73e+06 |\n",
      "+------------------+----------+----------+\n",
      "##### RESULTS (HeatExchangerSimple) #####\n",
      "+------------+-----------+----------+----------+-----+-----+------+------+--------+\n",
      "|            |         Q |       pr |     zeta |   D |   L |   ks |   kA |   Tamb |\n",
      "|------------+-----------+----------+----------+-----+-----+------+------+--------|\n",
      "| condenser  | -4.68e+05 | \u001b[94m9.80e-01\u001b[0m | 2.37e+06 | nan | nan |  nan |  nan |    nan |\n",
      "| evaporator |  2.25e+05 | \u001b[94m9.80e-01\u001b[0m | 2.46e+04 | nan | nan |  nan |  nan |    nan |\n",
      "+------------+-----------+----------+----------+-----+-----+------+------+--------+\n",
      "##### RESULTS (CycleCloser) #####\n",
      "+--------------+------------------+-------------------+\n",
      "|              |   mass_deviation |   fluid_deviation |\n",
      "|--------------+------------------+-------------------|\n",
      "| cycle_closer |         0.00e+00 |          0.00e+00 |\n",
      "+--------------+------------------+-------------------+\n",
      "##### RESULTS (Compressor) #####\n",
      "+--------------+----------+----------+----------+--------+\n",
      "|              |        P |    eta_s |       pr |   igva |\n",
      "|--------------+----------+----------+----------+--------|\n",
      "| compressor_1 | 1.16e+05 | \u001b[94m8.00e-01\u001b[0m | 3.01e+00 |    nan |\n",
      "| compressor_2 | 1.27e+05 | \u001b[94m8.00e-01\u001b[0m | 3.07e+00 |    nan |\n",
      "+--------------+----------+----------+----------+--------+\n",
      "##### RESULTS (Connection) #####\n",
      "+-------------------------------+-----------+-----------+-----------+------------+\n",
      "|                               |         m |         p |         h |          T |\n",
      "|-------------------------------+-----------+-----------+-----------+------------|\n",
      "| cycle_closer-evaporator       | 1.800e+00 | 3.523e+00 | 4.389e+02 | -9.388e+00 |\n",
      "| evaporator-compressor_1       | 1.800e+00 | \u001b[94m3.453e+00\u001b[0m | 5.637e+02 | -1.000e+01 |\n",
      "| compressor_1-merge_1          | 1.800e+00 | 1.040e+01 | 6.281e+02 |  4.023e+01 |\n",
      "| merge_1-compressor_2          | 2.000e+00 | 1.040e+01 | 6.092e+02 |  3.095e+01 |\n",
      "| compressor_2-condenser        | 2.000e+00 | 3.196e+01 | 6.729e+02 |  9.306e+01 |\n",
      "| condenser-expansionValve_1    | \u001b[94m2.000e+00\u001b[0m | \u001b[94m3.132e+01\u001b[0m | 4.389e+02 |  8.000e+01 |\n",
      "| expansionValve_1-splitter_1   | 2.000e+00 | 1.040e+01 | 4.389e+02 |  2.851e+01 |\n",
      "| splitter_1-expansionValve_2   | 1.800e+00 | 1.040e+01 | 4.389e+02 |  2.851e+01 |\n",
      "| expansionValve_2-cycle_closer | 1.800e+00 | 3.523e+00 | 4.389e+02 | -9.388e+00 |\n",
      "| splitter_1-merge_1            | \u001b[94m2.000e-01\u001b[0m | \u001b[94m1.040e+01\u001b[0m | 4.389e+02 |  2.851e+01 |\n",
      "+-------------------------------+-----------+-----------+-----------+------------+\n"
     ]
    },
    {
     "ename": "RecursionError",
     "evalue": "maximum recursion depth exceeded while calling a Python object",
     "output_type": "error",
     "traceback": [
      "\u001b[1;31m---------------------------------------------------------------------------\u001b[0m",
      "\u001b[1;31mRecursionError\u001b[0m                            Traceback (most recent call last)",
      "Cell \u001b[1;32mIn[14], line 2\u001b[0m\n\u001b[0;32m      1\u001b[0m \u001b[39mfrom\u001b[39;00m \u001b[39mHPS_vapor_injection\u001b[39;00m \u001b[39mimport\u001b[39;00m VaporInjectionHeatPumpStudy\n\u001b[1;32m----> 2\u001b[0m vapor_injection_study \u001b[39m=\u001b[39m VaporInjectionHeatPumpStudy(working_fluid\u001b[39m=\u001b[39;49mwf, N\u001b[39m=\u001b[39;49m\u001b[39m1\u001b[39;49m, expansion_device\u001b[39m=\u001b[39;49m\u001b[39m\"\u001b[39;49m\u001b[39mexpansionValve\u001b[39;49m\u001b[39m\"\u001b[39;49m)\n\u001b[0;32m      3\u001b[0m                                                     \u001b[39m# ).solve(max_iter=200)\u001b[39;00m\n\u001b[0;32m      4\u001b[0m \u001b[39mprint\u001b[39m(\u001b[39m\"\u001b[39m\u001b[39mCOP: \u001b[39m\u001b[39m\"\u001b[39m, vapor_injection_study\u001b[39m.\u001b[39mcalculate_cop())\n",
      "File \u001b[1;32mc:\\Users\\Ilewicz\\Desktop\\Ecalia CAD\\RefrigerantCycle\\heatpump-calculations\\HPS_vapor_injection.py:20\u001b[0m, in \u001b[0;36mVaporInjectionHeatPumpStudy.__init__\u001b[1;34m(self, **kwargs)\u001b[0m\n\u001b[0;32m     19\u001b[0m \u001b[39mdef\u001b[39;00m \u001b[39m__init__\u001b[39m(\u001b[39mself\u001b[39m, \u001b[39m*\u001b[39m\u001b[39m*\u001b[39mkwargs):\n\u001b[1;32m---> 20\u001b[0m     \u001b[39msuper\u001b[39;49m()\u001b[39m.\u001b[39;49m\u001b[39m__init__\u001b[39;49m(\u001b[39m*\u001b[39;49m\u001b[39m*\u001b[39;49mkwargs)\n",
      "File \u001b[1;32mc:\\Users\\Ilewicz\\Desktop\\Ecalia CAD\\RefrigerantCycle\\heatpump-calculations\\HeatPumpStudy.py:44\u001b[0m, in \u001b[0;36mHeatPumpStudy.__init__\u001b[1;34m(self, N, Q_out, working_fluid, compressor_efficiency, expander_efficiency, expansion_device)\u001b[0m\n\u001b[0;32m     42\u001b[0m \u001b[39mself\u001b[39m\u001b[39m.\u001b[39mconn: Dict[\u001b[39mstr\u001b[39m, Connection] \u001b[39m=\u001b[39m {}\n\u001b[0;32m     43\u001b[0m \u001b[39mself\u001b[39m\u001b[39m.\u001b[39mnetwork \u001b[39m=\u001b[39m \u001b[39mNone\u001b[39;00m\n\u001b[1;32m---> 44\u001b[0m \u001b[39mself\u001b[39;49m\u001b[39m.\u001b[39;49msetup_network()\n",
      "File \u001b[1;32mc:\\Users\\Ilewicz\\Desktop\\Ecalia CAD\\RefrigerantCycle\\heatpump-calculations\\HeatPumpStudy.py:56\u001b[0m, in \u001b[0;36mHeatPumpStudy.setup_network\u001b[1;34m(self, iterinfo)\u001b[0m\n\u001b[0;32m     54\u001b[0m \u001b[39mself\u001b[39m\u001b[39m.\u001b[39msetup_components_and_connections()\n\u001b[0;32m     55\u001b[0m \u001b[39mself\u001b[39m\u001b[39m.\u001b[39mnetwork\u001b[39m.\u001b[39madd_conns(\u001b[39m*\u001b[39m\u001b[39mlist\u001b[39m(\u001b[39mself\u001b[39m\u001b[39m.\u001b[39mconn\u001b[39m.\u001b[39mvalues()))\n\u001b[1;32m---> 56\u001b[0m \u001b[39mself\u001b[39;49m\u001b[39m.\u001b[39;49mset_boundary_conditions()\n\u001b[0;32m     57\u001b[0m \u001b[39mreturn\u001b[39;00m \u001b[39mself\u001b[39m\n",
      "File \u001b[1;32mc:\\Users\\Ilewicz\\Desktop\\Ecalia CAD\\RefrigerantCycle\\heatpump-calculations\\HPS_vapor_injection.py:123\u001b[0m, in \u001b[0;36mVaporInjectionHeatPumpStudy.set_boundary_conditions\u001b[1;34m(self, T_cond, T_evap)\u001b[0m\n\u001b[0;32m    118\u001b[0m        \u001b[39mself\u001b[39m\u001b[39m.\u001b[39mconn[conn]\u001b[39m.\u001b[39mset_attr(m\u001b[39m=\u001b[39m\u001b[39mNone\u001b[39;00m)\n\u001b[0;32m    120\u001b[0m \u001b[39m#self.conn[f\"compressor_{self.N+1}-condenser\"].set_attr(m=None)\u001b[39;00m\n\u001b[0;32m    121\u001b[0m \u001b[39m#self.comp[\"condenser\"].set_attr(Q=-self.Q_out)\u001b[39;00m\n\u001b[1;32m--> 123\u001b[0m \u001b[39mself\u001b[39;49m\u001b[39m.\u001b[39;49mnetwork\u001b[39m.\u001b[39;49msolve(\u001b[39m\"\u001b[39;49m\u001b[39mdesign\u001b[39;49m\u001b[39m\"\u001b[39;49m)\n\u001b[0;32m    124\u001b[0m \u001b[39mself\u001b[39m\u001b[39m.\u001b[39mnetwork\u001b[39m.\u001b[39mprint_results()\n\u001b[0;32m    126\u001b[0m \u001b[39mreturn\u001b[39;00m \u001b[39mself\u001b[39m\n",
      "File \u001b[1;32mc:\\Users\\Ilewicz\\AppData\\Local\\Programs\\Python\\Python311\\Lib\\site-packages\\tespy\\networks\\network.py:1653\u001b[0m, in \u001b[0;36mNetwork.solve\u001b[1;34m(self, mode, init_path, design_path, max_iter, min_iter, init_only, init_previous, use_cuda, always_all_equations)\u001b[0m\n\u001b[0;32m   1646\u001b[0m msg \u001b[39m=\u001b[39m (\n\u001b[0;32m   1647\u001b[0m     \u001b[39m'\u001b[39m\u001b[39mNetwork properties: \u001b[39m\u001b[39m'\u001b[39m\n\u001b[0;32m   1648\u001b[0m     \u001b[39m'\u001b[39m\u001b[39mnumber of components=\u001b[39m\u001b[39m'\u001b[39m \u001b[39m+\u001b[39m \u001b[39mstr\u001b[39m(\u001b[39mlen\u001b[39m(\u001b[39mself\u001b[39m\u001b[39m.\u001b[39mcomps)) \u001b[39m+\u001b[39m\n\u001b[0;32m   1649\u001b[0m     \u001b[39m'\u001b[39m\u001b[39m, number of connections=\u001b[39m\u001b[39m'\u001b[39m \u001b[39m+\u001b[39m \u001b[39mstr\u001b[39m(\u001b[39mlen\u001b[39m(\u001b[39mself\u001b[39m\u001b[39m.\u001b[39mconns\u001b[39m.\u001b[39mindex)) \u001b[39m+\u001b[39m\n\u001b[0;32m   1650\u001b[0m     \u001b[39m'\u001b[39m\u001b[39m, number of busses=\u001b[39m\u001b[39m'\u001b[39m \u001b[39m+\u001b[39m \u001b[39mstr\u001b[39m(\u001b[39mlen\u001b[39m(\u001b[39mself\u001b[39m\u001b[39m.\u001b[39mbusses)))\n\u001b[0;32m   1651\u001b[0m logging\u001b[39m.\u001b[39mdebug(msg)\n\u001b[1;32m-> 1653\u001b[0m \u001b[39mself\u001b[39;49m\u001b[39m.\u001b[39;49minitialise()\n\u001b[0;32m   1655\u001b[0m \u001b[39mif\u001b[39;00m init_only:\n\u001b[0;32m   1656\u001b[0m     \u001b[39mreturn\u001b[39;00m\n",
      "File \u001b[1;32mc:\\Users\\Ilewicz\\AppData\\Local\\Programs\\Python\\Python311\\Lib\\site-packages\\tespy\\networks\\network.py:846\u001b[0m, in \u001b[0;36mNetwork.initialise\u001b[1;34m(self)\u001b[0m\n\u001b[0;32m    843\u001b[0m     \u001b[39mself\u001b[39m\u001b[39m.\u001b[39minit_design()\n\u001b[0;32m    844\u001b[0m     \u001b[39m# generic fluid initialisation\u001b[39;00m\n\u001b[0;32m    845\u001b[0m     \u001b[39m# for offdesign cases good starting values should be available\u001b[39;00m\n\u001b[1;32m--> 846\u001b[0m     \u001b[39mself\u001b[39;49m\u001b[39m.\u001b[39;49minit_fluids()\n\u001b[0;32m    848\u001b[0m \u001b[39m# generic fluid property initialisation\u001b[39;00m\n\u001b[0;32m    849\u001b[0m \u001b[39mself\u001b[39m\u001b[39m.\u001b[39minit_properties()\n",
      "File \u001b[1;32mc:\\Users\\Ilewicz\\AppData\\Local\\Programs\\Python\\Python311\\Lib\\site-packages\\tespy\\networks\\network.py:1329\u001b[0m, in \u001b[0;36mNetwork.init_fluids\u001b[1;34m(self)\u001b[0m\n\u001b[0;32m   1327\u001b[0m     \u001b[39mif\u001b[39;00m \u001b[39many\u001b[39m(c\u001b[39m.\u001b[39mfluid\u001b[39m.\u001b[39mval0\u001b[39m.\u001b[39mvalues()):\n\u001b[0;32m   1328\u001b[0m         c\u001b[39m.\u001b[39mtarget\u001b[39m.\u001b[39mpropagate_fluid_to_target(c, c\u001b[39m.\u001b[39mtarget)\n\u001b[1;32m-> 1329\u001b[0m         c\u001b[39m.\u001b[39;49msource\u001b[39m.\u001b[39;49mpropagate_fluid_to_source(c, c\u001b[39m.\u001b[39;49msource)\n\u001b[0;32m   1331\u001b[0m \u001b[39m# fluid starting value generation for components\u001b[39;00m\n\u001b[0;32m   1332\u001b[0m \u001b[39mfor\u001b[39;00m cp \u001b[39min\u001b[39;00m \u001b[39mself\u001b[39m\u001b[39m.\u001b[39mcomps[\u001b[39m'\u001b[39m\u001b[39mobject\u001b[39m\u001b[39m'\u001b[39m]:\n",
      "File \u001b[1;32mc:\\Users\\Ilewicz\\AppData\\Local\\Programs\\Python\\Python311\\Lib\\site-packages\\tespy\\components\\nodes\\merge.py:365\u001b[0m, in \u001b[0;36mMerge.propagate_fluid_to_source\u001b[1;34m(self, outconn, start)\u001b[0m\n\u001b[0;32m    361\u001b[0m     \u001b[39mif\u001b[39;00m (\u001b[39mnot\u001b[39;00m inconn\u001b[39m.\u001b[39mfluid\u001b[39m.\u001b[39mval_set[fluid] \u001b[39mand\u001b[39;00m\n\u001b[0;32m    362\u001b[0m             \u001b[39mnot\u001b[39;00m inconn\u001b[39m.\u001b[39mgood_starting_values):\n\u001b[0;32m    363\u001b[0m         inconn\u001b[39m.\u001b[39mfluid\u001b[39m.\u001b[39mval[fluid] \u001b[39m=\u001b[39m x\n\u001b[1;32m--> 365\u001b[0m inconn\u001b[39m.\u001b[39;49msource\u001b[39m.\u001b[39;49mpropagate_fluid_to_source(inconn, start)\n",
      "File \u001b[1;32mc:\\Users\\Ilewicz\\AppData\\Local\\Programs\\Python\\Python311\\Lib\\site-packages\\tespy\\components\\nodes\\splitter.py:314\u001b[0m, in \u001b[0;36mSplitter.propagate_fluid_to_source\u001b[1;34m(self, outconn, start)\u001b[0m\n\u001b[0;32m    310\u001b[0m     \u001b[39mif\u001b[39;00m (inconn\u001b[39m.\u001b[39mfluid\u001b[39m.\u001b[39mval_set[fluid] \u001b[39mis\u001b[39;00m \u001b[39mFalse\u001b[39;00m \u001b[39mand\u001b[39;00m\n\u001b[0;32m    311\u001b[0m             inconn\u001b[39m.\u001b[39mgood_starting_values \u001b[39mis\u001b[39;00m \u001b[39mFalse\u001b[39;00m):\n\u001b[0;32m    312\u001b[0m         inconn\u001b[39m.\u001b[39mfluid\u001b[39m.\u001b[39mval[fluid] \u001b[39m=\u001b[39m x\n\u001b[1;32m--> 314\u001b[0m inconn\u001b[39m.\u001b[39;49msource\u001b[39m.\u001b[39;49mpropagate_fluid_to_source(inconn, start)\n",
      "File \u001b[1;32mc:\\Users\\Ilewicz\\AppData\\Local\\Programs\\Python\\Python311\\Lib\\site-packages\\tespy\\components\\component.py:839\u001b[0m, in \u001b[0;36mComponent.propagate_fluid_to_source\u001b[1;34m(self, outconn, start)\u001b[0m\n\u001b[0;32m    835\u001b[0m     \u001b[39mif\u001b[39;00m (inconn\u001b[39m.\u001b[39mfluid\u001b[39m.\u001b[39mval_set[fluid] \u001b[39mis\u001b[39;00m \u001b[39mFalse\u001b[39;00m \u001b[39mand\u001b[39;00m\n\u001b[0;32m    836\u001b[0m             inconn\u001b[39m.\u001b[39mgood_starting_values \u001b[39mis\u001b[39;00m \u001b[39mFalse\u001b[39;00m):\n\u001b[0;32m    837\u001b[0m         inconn\u001b[39m.\u001b[39mfluid\u001b[39m.\u001b[39mval[fluid] \u001b[39m=\u001b[39m x\n\u001b[1;32m--> 839\u001b[0m inconn\u001b[39m.\u001b[39;49msource\u001b[39m.\u001b[39;49mpropagate_fluid_to_source(inconn, start)\n",
      "File \u001b[1;32mc:\\Users\\Ilewicz\\AppData\\Local\\Programs\\Python\\Python311\\Lib\\site-packages\\tespy\\components\\component.py:839\u001b[0m, in \u001b[0;36mComponent.propagate_fluid_to_source\u001b[1;34m(self, outconn, start)\u001b[0m\n\u001b[0;32m    835\u001b[0m     \u001b[39mif\u001b[39;00m (inconn\u001b[39m.\u001b[39mfluid\u001b[39m.\u001b[39mval_set[fluid] \u001b[39mis\u001b[39;00m \u001b[39mFalse\u001b[39;00m \u001b[39mand\u001b[39;00m\n\u001b[0;32m    836\u001b[0m             inconn\u001b[39m.\u001b[39mgood_starting_values \u001b[39mis\u001b[39;00m \u001b[39mFalse\u001b[39;00m):\n\u001b[0;32m    837\u001b[0m         inconn\u001b[39m.\u001b[39mfluid\u001b[39m.\u001b[39mval[fluid] \u001b[39m=\u001b[39m x\n\u001b[1;32m--> 839\u001b[0m inconn\u001b[39m.\u001b[39;49msource\u001b[39m.\u001b[39;49mpropagate_fluid_to_source(inconn, start)\n",
      "    \u001b[1;31m[... skipping similar frames: Component.propagate_fluid_to_source at line 839 (1 times)]\u001b[0m\n",
      "File \u001b[1;32mc:\\Users\\Ilewicz\\AppData\\Local\\Programs\\Python\\Python311\\Lib\\site-packages\\tespy\\components\\nodes\\merge.py:365\u001b[0m, in \u001b[0;36mMerge.propagate_fluid_to_source\u001b[1;34m(self, outconn, start)\u001b[0m\n\u001b[0;32m    361\u001b[0m     \u001b[39mif\u001b[39;00m (\u001b[39mnot\u001b[39;00m inconn\u001b[39m.\u001b[39mfluid\u001b[39m.\u001b[39mval_set[fluid] \u001b[39mand\u001b[39;00m\n\u001b[0;32m    362\u001b[0m             \u001b[39mnot\u001b[39;00m inconn\u001b[39m.\u001b[39mgood_starting_values):\n\u001b[0;32m    363\u001b[0m         inconn\u001b[39m.\u001b[39mfluid\u001b[39m.\u001b[39mval[fluid] \u001b[39m=\u001b[39m x\n\u001b[1;32m--> 365\u001b[0m inconn\u001b[39m.\u001b[39;49msource\u001b[39m.\u001b[39;49mpropagate_fluid_to_source(inconn, start)\n",
      "File \u001b[1;32mc:\\Users\\Ilewicz\\AppData\\Local\\Programs\\Python\\Python311\\Lib\\site-packages\\tespy\\components\\nodes\\splitter.py:314\u001b[0m, in \u001b[0;36mSplitter.propagate_fluid_to_source\u001b[1;34m(self, outconn, start)\u001b[0m\n\u001b[0;32m    310\u001b[0m     \u001b[39mif\u001b[39;00m (inconn\u001b[39m.\u001b[39mfluid\u001b[39m.\u001b[39mval_set[fluid] \u001b[39mis\u001b[39;00m \u001b[39mFalse\u001b[39;00m \u001b[39mand\u001b[39;00m\n\u001b[0;32m    311\u001b[0m             inconn\u001b[39m.\u001b[39mgood_starting_values \u001b[39mis\u001b[39;00m \u001b[39mFalse\u001b[39;00m):\n\u001b[0;32m    312\u001b[0m         inconn\u001b[39m.\u001b[39mfluid\u001b[39m.\u001b[39mval[fluid] \u001b[39m=\u001b[39m x\n\u001b[1;32m--> 314\u001b[0m inconn\u001b[39m.\u001b[39;49msource\u001b[39m.\u001b[39;49mpropagate_fluid_to_source(inconn, start)\n",
      "    \u001b[1;31m[... skipping similar frames: Component.propagate_fluid_to_source at line 839 (1773 times), Merge.propagate_fluid_to_source at line 365 (590 times), Splitter.propagate_fluid_to_source at line 314 (590 times)]\u001b[0m\n",
      "File \u001b[1;32mc:\\Users\\Ilewicz\\AppData\\Local\\Programs\\Python\\Python311\\Lib\\site-packages\\tespy\\components\\nodes\\merge.py:365\u001b[0m, in \u001b[0;36mMerge.propagate_fluid_to_source\u001b[1;34m(self, outconn, start)\u001b[0m\n\u001b[0;32m    361\u001b[0m     \u001b[39mif\u001b[39;00m (\u001b[39mnot\u001b[39;00m inconn\u001b[39m.\u001b[39mfluid\u001b[39m.\u001b[39mval_set[fluid] \u001b[39mand\u001b[39;00m\n\u001b[0;32m    362\u001b[0m             \u001b[39mnot\u001b[39;00m inconn\u001b[39m.\u001b[39mgood_starting_values):\n\u001b[0;32m    363\u001b[0m         inconn\u001b[39m.\u001b[39mfluid\u001b[39m.\u001b[39mval[fluid] \u001b[39m=\u001b[39m x\n\u001b[1;32m--> 365\u001b[0m inconn\u001b[39m.\u001b[39;49msource\u001b[39m.\u001b[39;49mpropagate_fluid_to_source(inconn, start)\n",
      "File \u001b[1;32mc:\\Users\\Ilewicz\\AppData\\Local\\Programs\\Python\\Python311\\Lib\\site-packages\\tespy\\components\\nodes\\splitter.py:314\u001b[0m, in \u001b[0;36mSplitter.propagate_fluid_to_source\u001b[1;34m(self, outconn, start)\u001b[0m\n\u001b[0;32m    310\u001b[0m     \u001b[39mif\u001b[39;00m (inconn\u001b[39m.\u001b[39mfluid\u001b[39m.\u001b[39mval_set[fluid] \u001b[39mis\u001b[39;00m \u001b[39mFalse\u001b[39;00m \u001b[39mand\u001b[39;00m\n\u001b[0;32m    311\u001b[0m             inconn\u001b[39m.\u001b[39mgood_starting_values \u001b[39mis\u001b[39;00m \u001b[39mFalse\u001b[39;00m):\n\u001b[0;32m    312\u001b[0m         inconn\u001b[39m.\u001b[39mfluid\u001b[39m.\u001b[39mval[fluid] \u001b[39m=\u001b[39m x\n\u001b[1;32m--> 314\u001b[0m inconn\u001b[39m.\u001b[39;49msource\u001b[39m.\u001b[39;49mpropagate_fluid_to_source(inconn, start)\n",
      "    \u001b[1;31m[... skipping similar frames: Component.propagate_fluid_to_source at line 839 (2 times)]\u001b[0m\n",
      "File \u001b[1;32mc:\\Users\\Ilewicz\\AppData\\Local\\Programs\\Python\\Python311\\Lib\\site-packages\\tespy\\components\\component.py:839\u001b[0m, in \u001b[0;36mComponent.propagate_fluid_to_source\u001b[1;34m(self, outconn, start)\u001b[0m\n\u001b[0;32m    835\u001b[0m     \u001b[39mif\u001b[39;00m (inconn\u001b[39m.\u001b[39mfluid\u001b[39m.\u001b[39mval_set[fluid] \u001b[39mis\u001b[39;00m \u001b[39mFalse\u001b[39;00m \u001b[39mand\u001b[39;00m\n\u001b[0;32m    836\u001b[0m             inconn\u001b[39m.\u001b[39mgood_starting_values \u001b[39mis\u001b[39;00m \u001b[39mFalse\u001b[39;00m):\n\u001b[0;32m    837\u001b[0m         inconn\u001b[39m.\u001b[39mfluid\u001b[39m.\u001b[39mval[fluid] \u001b[39m=\u001b[39m x\n\u001b[1;32m--> 839\u001b[0m inconn\u001b[39m.\u001b[39;49msource\u001b[39m.\u001b[39;49mpropagate_fluid_to_source(inconn, start)\n",
      "File \u001b[1;32mc:\\Users\\Ilewicz\\AppData\\Local\\Programs\\Python\\Python311\\Lib\\site-packages\\tespy\\components\\nodes\\merge.py:360\u001b[0m, in \u001b[0;36mMerge.propagate_fluid_to_source\u001b[1;34m(self, outconn, start)\u001b[0m\n\u001b[0;32m    347\u001b[0m \u001b[39m\u001b[39m\u001b[39mr\u001b[39m\u001b[39m\"\"\"\u001b[39;00m\n\u001b[0;32m    348\u001b[0m \u001b[39mPropagate the fluids towards connection's source in recursion.\u001b[39;00m\n\u001b[0;32m    349\u001b[0m \n\u001b[1;32m   (...)\u001b[0m\n\u001b[0;32m    357\u001b[0m \u001b[39m    The starting component is saved to prevent infinite looping.\u001b[39;00m\n\u001b[0;32m    358\u001b[0m \u001b[39m\"\"\"\u001b[39;00m\n\u001b[0;32m    359\u001b[0m \u001b[39mfor\u001b[39;00m inconn \u001b[39min\u001b[39;00m \u001b[39mself\u001b[39m\u001b[39m.\u001b[39minl:\n\u001b[1;32m--> 360\u001b[0m     \u001b[39mfor\u001b[39;00m fluid, x \u001b[39min\u001b[39;00m outconn\u001b[39m.\u001b[39mfluid\u001b[39m.\u001b[39mval\u001b[39m.\u001b[39mitems():\n\u001b[0;32m    361\u001b[0m         \u001b[39mif\u001b[39;00m (\u001b[39mnot\u001b[39;00m inconn\u001b[39m.\u001b[39mfluid\u001b[39m.\u001b[39mval_set[fluid] \u001b[39mand\u001b[39;00m\n\u001b[0;32m    362\u001b[0m                 \u001b[39mnot\u001b[39;00m inconn\u001b[39m.\u001b[39mgood_starting_values):\n\u001b[0;32m    363\u001b[0m             inconn\u001b[39m.\u001b[39mfluid\u001b[39m.\u001b[39mval[fluid] \u001b[39m=\u001b[39m x\n",
      "\u001b[1;31mRecursionError\u001b[0m: maximum recursion depth exceeded while calling a Python object"
     ]
    }
   ],
   "source": [
    "from HPS_vapor_injection import VaporInjectionHeatPumpStudy\n",
    "vapor_injection_study = VaporInjectionHeatPumpStudy(working_fluid=wf, N=1, expansion_device=\"expansionValve\")\n",
    "                                                    # ).solve(max_iter=200)\n",
    "print(\"COP: \", vapor_injection_study.calculate_cop())\n",
    "#vapor_injection_study.plot_ts_diag(\"output/multistage_ts_diagram\", x_max=3000)"
   ]
  },
  {
   "attachments": {},
   "cell_type": "markdown",
   "metadata": {},
   "source": [
    "# N=3 vapor injection after first compression stage"
   ]
  },
  {
   "cell_type": "code",
   "execution_count": null,
   "metadata": {},
   "outputs": [
    {
     "name": "stderr",
     "output_type": "stream",
     "text": [
      "WARNING:root:The starting value for the fluid composition of the connection 3_2_3 is empty. This might lead to issues in the initialisation and solving process as fluid property functions can not be called. Make sure you specified a fluid composition in all parts of the network.\n",
      "WARNING:root:The starting value for the fluid composition of the connection 4 is empty. This might lead to issues in the initialisation and solving process as fluid property functions can not be called. Make sure you specified a fluid composition in all parts of the network.\n",
      "WARNING:root:The starting value for the fluid composition of the connection 5_3 is empty. This might lead to issues in the initialisation and solving process as fluid property functions can not be called. Make sure you specified a fluid composition in all parts of the network.\n",
      "WARNING:root:The starting value for the fluid composition of the connection 6_1_1 is empty. This might lead to issues in the initialisation and solving process as fluid property functions can not be called. Make sure you specified a fluid composition in all parts of the network.\n",
      "WARNING:root:The starting value for the fluid composition of the connection 6_2_1 is empty. This might lead to issues in the initialisation and solving process as fluid property functions can not be called. Make sure you specified a fluid composition in all parts of the network.\n",
      "WARNING:root:The starting value for the fluid composition of the connection 6_1_2 is empty. This might lead to issues in the initialisation and solving process as fluid property functions can not be called. Make sure you specified a fluid composition in all parts of the network.\n",
      "WARNING:root:The starting value for the fluid composition of the connection 6_2_2 is empty. This might lead to issues in the initialisation and solving process as fluid property functions can not be called. Make sure you specified a fluid composition in all parts of the network.\n",
      "WARNING:root:The starting value for the fluid composition of the connection 6_1_3 is empty. This might lead to issues in the initialisation and solving process as fluid property functions can not be called. Make sure you specified a fluid composition in all parts of the network.\n",
      "WARNING:root:The starting value for the fluid composition of the connection 6_2_3 is empty. This might lead to issues in the initialisation and solving process as fluid property functions can not be called. Make sure you specified a fluid composition in all parts of the network.\n",
      "WARNING:root:The starting value for the fluid composition of the connection 0 is empty. This might lead to issues in the initialisation and solving process as fluid property functions can not be called. Make sure you specified a fluid composition in all parts of the network.\n",
      "WARNING:root:The starting value for the fluid composition of the connection 3_3 is empty. This might lead to issues in the initialisation and solving process as fluid property functions can not be called. Make sure you specified a fluid composition in all parts of the network.\n"
     ]
    },
    {
     "ename": "ZeroDivisionError",
     "evalue": "float division by zero",
     "output_type": "error",
     "traceback": [
      "\u001b[1;31m---------------------------------------------------------------------------\u001b[0m",
      "\u001b[1;31mZeroDivisionError\u001b[0m                         Traceback (most recent call last)",
      "Cell \u001b[1;32mIn[5], line 2\u001b[0m\n\u001b[0;32m      1\u001b[0m \u001b[39mfrom\u001b[39;00m \u001b[39mHPS_vapor_injection\u001b[39;00m \u001b[39mimport\u001b[39;00m VaporInjectionHeatPumpStudy\n\u001b[1;32m----> 2\u001b[0m vapor_injection_study \u001b[39m=\u001b[39m VaporInjectionHeatPumpStudy(working_fluid\u001b[39m=\u001b[39;49mwf, N\u001b[39m=\u001b[39;49m\u001b[39m3\u001b[39;49m, expansion_device\u001b[39m=\u001b[39;49m\u001b[39m\"\u001b[39;49m\u001b[39mexpander\u001b[39;49m\u001b[39m\"\u001b[39;49m\n\u001b[0;32m      3\u001b[0m                                                     )\u001b[39m.\u001b[39msolve(max_iter\u001b[39m=\u001b[39m\u001b[39m200\u001b[39m)\n\u001b[0;32m      4\u001b[0m \u001b[39mprint\u001b[39m(\u001b[39m\"\u001b[39m\u001b[39mCOP: \u001b[39m\u001b[39m\"\u001b[39m, vapor_injection_study\u001b[39m.\u001b[39mcalculate_cop())\n\u001b[0;32m      5\u001b[0m vapor_injection_study\u001b[39m.\u001b[39mplot_ts_diag(\u001b[39m\"\u001b[39m\u001b[39moutput/multistage_ts_diagram\u001b[39m\u001b[39m\"\u001b[39m, x_max\u001b[39m=\u001b[39m\u001b[39m3000\u001b[39m)\n",
      "File \u001b[1;32mc:\\Users\\Ilewicz\\Desktop\\Ecalia CAD\\RefrigerantCycle\\heatpump-calculations\\HPS_vapor_injection.py:19\u001b[0m, in \u001b[0;36mVaporInjectionHeatPumpStudy.__init__\u001b[1;34m(self, **kwargs)\u001b[0m\n\u001b[0;32m     18\u001b[0m \u001b[39mdef\u001b[39;00m \u001b[39m__init__\u001b[39m(\u001b[39mself\u001b[39m, \u001b[39m*\u001b[39m\u001b[39m*\u001b[39mkwargs):\n\u001b[1;32m---> 19\u001b[0m     \u001b[39msuper\u001b[39;49m()\u001b[39m.\u001b[39;49m\u001b[39m__init__\u001b[39;49m(\u001b[39m*\u001b[39;49m\u001b[39m*\u001b[39;49mkwargs)\n",
      "File \u001b[1;32mc:\\Users\\Ilewicz\\Desktop\\Ecalia CAD\\RefrigerantCycle\\heatpump-calculations\\HeatPumpStudy.py:44\u001b[0m, in \u001b[0;36mHeatPumpStudy.__init__\u001b[1;34m(self, N, Q_out, working_fluid, compressor_efficiency, expander_efficiency, expansion_device)\u001b[0m\n\u001b[0;32m     42\u001b[0m \u001b[39mself\u001b[39m\u001b[39m.\u001b[39mconn: Dict[\u001b[39mstr\u001b[39m, Connection] \u001b[39m=\u001b[39m {}\n\u001b[0;32m     43\u001b[0m \u001b[39mself\u001b[39m\u001b[39m.\u001b[39mnetwork \u001b[39m=\u001b[39m \u001b[39mNone\u001b[39;00m\n\u001b[1;32m---> 44\u001b[0m \u001b[39mself\u001b[39;49m\u001b[39m.\u001b[39;49msetup_network()\n",
      "File \u001b[1;32mc:\\Users\\Ilewicz\\Desktop\\Ecalia CAD\\RefrigerantCycle\\heatpump-calculations\\HeatPumpStudy.py:56\u001b[0m, in \u001b[0;36mHeatPumpStudy.setup_network\u001b[1;34m(self, iterinfo)\u001b[0m\n\u001b[0;32m     54\u001b[0m \u001b[39mself\u001b[39m\u001b[39m.\u001b[39msetup_components_and_connections()\n\u001b[0;32m     55\u001b[0m \u001b[39mself\u001b[39m\u001b[39m.\u001b[39mnetwork\u001b[39m.\u001b[39madd_conns(\u001b[39m*\u001b[39m\u001b[39mlist\u001b[39m(\u001b[39mself\u001b[39m\u001b[39m.\u001b[39mconn\u001b[39m.\u001b[39mvalues()))\n\u001b[1;32m---> 56\u001b[0m \u001b[39mself\u001b[39;49m\u001b[39m.\u001b[39;49mset_boundary_conditions()\n\u001b[0;32m     57\u001b[0m \u001b[39mreturn\u001b[39;00m \u001b[39mself\u001b[39m\n",
      "File \u001b[1;32mc:\\Users\\Ilewicz\\Desktop\\Ecalia CAD\\RefrigerantCycle\\heatpump-calculations\\HPS_vapor_injection.py:104\u001b[0m, in \u001b[0;36mVaporInjectionHeatPumpStudy.set_boundary_conditions\u001b[1;34m(self, T_cond, T_evap)\u001b[0m\n\u001b[0;32m    101\u001b[0m         \u001b[39mself\u001b[39m\u001b[39m.\u001b[39mconn[conn]\u001b[39m.\u001b[39mset_attr(p\u001b[39m=\u001b[39mp)\n\u001b[0;32m    102\u001b[0m         \u001b[39mself\u001b[39m\u001b[39m.\u001b[39mconn[conn]\u001b[39m.\u001b[39mset_attr(m\u001b[39m=\u001b[39mm0\u001b[39m/\u001b[39m\u001b[39m10\u001b[39m\u001b[39m/\u001b[39m(\u001b[39mself\u001b[39m\u001b[39m.\u001b[39mN))\n\u001b[1;32m--> 104\u001b[0m \u001b[39mself\u001b[39;49m\u001b[39m.\u001b[39;49msolve()\n\u001b[0;32m    105\u001b[0m \u001b[39mself\u001b[39m\u001b[39m.\u001b[39mnetwork\u001b[39m.\u001b[39mprint_results()\n\u001b[0;32m    108\u001b[0m \u001b[39mfor\u001b[39;00m conn \u001b[39min\u001b[39;00m \u001b[39mself\u001b[39m\u001b[39m.\u001b[39mconn:\n",
      "File \u001b[1;32mc:\\Users\\Ilewicz\\Desktop\\Ecalia CAD\\RefrigerantCycle\\heatpump-calculations\\HeatPumpStudy.py:77\u001b[0m, in \u001b[0;36mHeatPumpStudy.solve\u001b[1;34m(self, mode, **args)\u001b[0m\n\u001b[0;32m     76\u001b[0m \u001b[39mdef\u001b[39;00m \u001b[39msolve\u001b[39m(\u001b[39mself\u001b[39m, mode\u001b[39m=\u001b[39m\u001b[39m\"\u001b[39m\u001b[39mdesign\u001b[39m\u001b[39m\"\u001b[39m, \u001b[39m*\u001b[39m\u001b[39m*\u001b[39margs):\n\u001b[1;32m---> 77\u001b[0m     \u001b[39mself\u001b[39;49m\u001b[39m.\u001b[39;49mnetwork\u001b[39m.\u001b[39;49msolve(mode\u001b[39m=\u001b[39;49mmode, design_path\u001b[39m=\u001b[39;49m\u001b[39m\"\u001b[39;49m\u001b[39mHeatPumpStudy\u001b[39;49m\u001b[39m\"\u001b[39;49m, \u001b[39m*\u001b[39;49m\u001b[39m*\u001b[39;49margs)\n\u001b[0;32m     78\u001b[0m     \u001b[39mreturn\u001b[39;00m \u001b[39mself\u001b[39m\n",
      "File \u001b[1;32mc:\\Users\\Ilewicz\\AppData\\Local\\Programs\\Python\\Python311\\Lib\\site-packages\\tespy\\networks\\network.py:1653\u001b[0m, in \u001b[0;36mNetwork.solve\u001b[1;34m(self, mode, init_path, design_path, max_iter, min_iter, init_only, init_previous, use_cuda, always_all_equations)\u001b[0m\n\u001b[0;32m   1646\u001b[0m msg \u001b[39m=\u001b[39m (\n\u001b[0;32m   1647\u001b[0m     \u001b[39m'\u001b[39m\u001b[39mNetwork properties: \u001b[39m\u001b[39m'\u001b[39m\n\u001b[0;32m   1648\u001b[0m     \u001b[39m'\u001b[39m\u001b[39mnumber of components=\u001b[39m\u001b[39m'\u001b[39m \u001b[39m+\u001b[39m \u001b[39mstr\u001b[39m(\u001b[39mlen\u001b[39m(\u001b[39mself\u001b[39m\u001b[39m.\u001b[39mcomps)) \u001b[39m+\u001b[39m\n\u001b[0;32m   1649\u001b[0m     \u001b[39m'\u001b[39m\u001b[39m, number of connections=\u001b[39m\u001b[39m'\u001b[39m \u001b[39m+\u001b[39m \u001b[39mstr\u001b[39m(\u001b[39mlen\u001b[39m(\u001b[39mself\u001b[39m\u001b[39m.\u001b[39mconns\u001b[39m.\u001b[39mindex)) \u001b[39m+\u001b[39m\n\u001b[0;32m   1650\u001b[0m     \u001b[39m'\u001b[39m\u001b[39m, number of busses=\u001b[39m\u001b[39m'\u001b[39m \u001b[39m+\u001b[39m \u001b[39mstr\u001b[39m(\u001b[39mlen\u001b[39m(\u001b[39mself\u001b[39m\u001b[39m.\u001b[39mbusses)))\n\u001b[0;32m   1651\u001b[0m logging\u001b[39m.\u001b[39mdebug(msg)\n\u001b[1;32m-> 1653\u001b[0m \u001b[39mself\u001b[39;49m\u001b[39m.\u001b[39;49minitialise()\n\u001b[0;32m   1655\u001b[0m \u001b[39mif\u001b[39;00m init_only:\n\u001b[0;32m   1656\u001b[0m     \u001b[39mreturn\u001b[39;00m\n",
      "File \u001b[1;32mc:\\Users\\Ilewicz\\AppData\\Local\\Programs\\Python\\Python311\\Lib\\site-packages\\tespy\\networks\\network.py:849\u001b[0m, in \u001b[0;36mNetwork.initialise\u001b[1;34m(self)\u001b[0m\n\u001b[0;32m    846\u001b[0m     \u001b[39mself\u001b[39m\u001b[39m.\u001b[39minit_fluids()\n\u001b[0;32m    848\u001b[0m \u001b[39m# generic fluid property initialisation\u001b[39;00m\n\u001b[1;32m--> 849\u001b[0m \u001b[39mself\u001b[39;49m\u001b[39m.\u001b[39;49minit_properties()\n\u001b[0;32m    851\u001b[0m msg \u001b[39m=\u001b[39m \u001b[39m'\u001b[39m\u001b[39mNetwork initialised.\u001b[39m\u001b[39m'\u001b[39m\n\u001b[0;32m    852\u001b[0m logging\u001b[39m.\u001b[39minfo(msg)\n",
      "File \u001b[1;32mc:\\Users\\Ilewicz\\AppData\\Local\\Programs\\Python\\Python311\\Lib\\site-packages\\tespy\\networks\\network.py:1412\u001b[0m, in \u001b[0;36mNetwork.init_properties\u001b[1;34m(self)\u001b[0m\n\u001b[0;32m   1405\u001b[0m         \u001b[39mif\u001b[39;00m (c\u001b[39m.\u001b[39mget_attr(key)\u001b[39m.\u001b[39mref_set \u001b[39mand\u001b[39;00m\n\u001b[0;32m   1406\u001b[0m                 \u001b[39mnot\u001b[39;00m c\u001b[39m.\u001b[39mget_attr(key)\u001b[39m.\u001b[39mval_set):\n\u001b[0;32m   1407\u001b[0m             c\u001b[39m.\u001b[39mget_attr(key)\u001b[39m.\u001b[39mval_SI \u001b[39m=\u001b[39m (\n\u001b[0;32m   1408\u001b[0m                     c\u001b[39m.\u001b[39mget_attr(key)\u001b[39m.\u001b[39mref\u001b[39m.\u001b[39mobj\u001b[39m.\u001b[39mget_attr(key)\u001b[39m.\u001b[39mval_SI \u001b[39m*\u001b[39m\n\u001b[0;32m   1409\u001b[0m                     c\u001b[39m.\u001b[39mget_attr(key)\u001b[39m.\u001b[39mref\u001b[39m.\u001b[39mfactor \u001b[39m+\u001b[39m\n\u001b[0;32m   1410\u001b[0m                     c\u001b[39m.\u001b[39mget_attr(key)\u001b[39m.\u001b[39mref\u001b[39m.\u001b[39mdelta_SI)\n\u001b[1;32m-> 1412\u001b[0m     \u001b[39mself\u001b[39;49m\u001b[39m.\u001b[39;49minit_precalc_properties(c)\n\u001b[0;32m   1414\u001b[0m \u001b[39m# starting values for specified subcooling/overheating\u001b[39;00m\n\u001b[0;32m   1415\u001b[0m \u001b[39m# and state specification. These should be recalculated even with\u001b[39;00m\n\u001b[0;32m   1416\u001b[0m \u001b[39m# good starting values, for example, when one exchanges enthalpy\u001b[39;00m\n\u001b[0;32m   1417\u001b[0m \u001b[39m# with boiling point temperature difference.\u001b[39;00m\n\u001b[0;32m   1418\u001b[0m \u001b[39mif\u001b[39;00m ((c\u001b[39m.\u001b[39mTd_bp\u001b[39m.\u001b[39mval_set \u001b[39mor\u001b[39;00m c\u001b[39m.\u001b[39mstate\u001b[39m.\u001b[39mis_set) \u001b[39mand\u001b[39;00m\n\u001b[0;32m   1419\u001b[0m         \u001b[39mnot\u001b[39;00m c\u001b[39m.\u001b[39mh\u001b[39m.\u001b[39mval_set):\n",
      "File \u001b[1;32mc:\\Users\\Ilewicz\\AppData\\Local\\Programs\\Python\\Python311\\Lib\\site-packages\\tespy\\networks\\network.py:1487\u001b[0m, in \u001b[0;36mNetwork.init_precalc_properties\u001b[1;34m(self, c)\u001b[0m\n\u001b[0;32m   1485\u001b[0m \u001b[39mif\u001b[39;00m c\u001b[39m.\u001b[39mT\u001b[39m.\u001b[39mval_set \u001b[39mand\u001b[39;00m \u001b[39mnot\u001b[39;00m c\u001b[39m.\u001b[39mh\u001b[39m.\u001b[39mval_set:\n\u001b[0;32m   1486\u001b[0m     \u001b[39mtry\u001b[39;00m:\n\u001b[1;32m-> 1487\u001b[0m         c\u001b[39m.\u001b[39mh\u001b[39m.\u001b[39mval_SI \u001b[39m=\u001b[39m fp\u001b[39m.\u001b[39;49mh_mix_pT(c\u001b[39m.\u001b[39;49mget_flow(), c\u001b[39m.\u001b[39;49mT\u001b[39m.\u001b[39;49mval_SI)\n\u001b[0;32m   1488\u001b[0m     \u001b[39mexcept\u001b[39;00m \u001b[39mValueError\u001b[39;00m:\n\u001b[0;32m   1489\u001b[0m         \u001b[39mpass\u001b[39;00m\n",
      "File \u001b[1;32mc:\\Users\\Ilewicz\\AppData\\Local\\Programs\\Python\\Python311\\Lib\\site-packages\\tespy\\tools\\fluid_properties.py:535\u001b[0m, in \u001b[0;36mh_mix_pT\u001b[1;34m(flow, T, force_gas)\u001b[0m\n\u001b[0;32m    532\u001b[0m fluid_name \u001b[39m=\u001b[39m single_fluid(flow[\u001b[39m3\u001b[39m])\n\u001b[0;32m    533\u001b[0m \u001b[39mif\u001b[39;00m fluid_name \u001b[39mis\u001b[39;00m \u001b[39mNone\u001b[39;00m:\n\u001b[1;32m--> 535\u001b[0m     x_i \u001b[39m=\u001b[39m {\n\u001b[0;32m    536\u001b[0m         fluid: y \u001b[39m/\u001b[39;49m (molar_masses[fluid] \u001b[39m*\u001b[39;49m n)\n\u001b[0;32m    537\u001b[0m         \u001b[39mfor\u001b[39;49;00m fluid, y \u001b[39min\u001b[39;49;00m flow[\u001b[39m3\u001b[39;49m]\u001b[39m.\u001b[39;49mitems()\n\u001b[0;32m    538\u001b[0m     }\n\u001b[0;32m    540\u001b[0m     water \u001b[39m=\u001b[39m Memorise\u001b[39m.\u001b[39mwater\n\u001b[0;32m    541\u001b[0m     \u001b[39mif\u001b[39;00m (water \u001b[39mis\u001b[39;00m \u001b[39mnot\u001b[39;00m \u001b[39mNone\u001b[39;00m \u001b[39mand\u001b[39;00m \u001b[39mnot\u001b[39;00m force_gas \u001b[39mand\u001b[39;00m flow[\u001b[39m3\u001b[39m][water] \u001b[39m>\u001b[39m err):\n",
      "File \u001b[1;32mc:\\Users\\Ilewicz\\AppData\\Local\\Programs\\Python\\Python311\\Lib\\site-packages\\tespy\\tools\\fluid_properties.py:536\u001b[0m, in \u001b[0;36m<dictcomp>\u001b[1;34m(.0)\u001b[0m\n\u001b[0;32m    532\u001b[0m fluid_name \u001b[39m=\u001b[39m single_fluid(flow[\u001b[39m3\u001b[39m])\n\u001b[0;32m    533\u001b[0m \u001b[39mif\u001b[39;00m fluid_name \u001b[39mis\u001b[39;00m \u001b[39mNone\u001b[39;00m:\n\u001b[0;32m    535\u001b[0m     x_i \u001b[39m=\u001b[39m {\n\u001b[1;32m--> 536\u001b[0m         fluid: y \u001b[39m/\u001b[39;49m (molar_masses[fluid] \u001b[39m*\u001b[39;49m n)\n\u001b[0;32m    537\u001b[0m         \u001b[39mfor\u001b[39;00m fluid, y \u001b[39min\u001b[39;00m flow[\u001b[39m3\u001b[39m]\u001b[39m.\u001b[39mitems()\n\u001b[0;32m    538\u001b[0m     }\n\u001b[0;32m    540\u001b[0m     water \u001b[39m=\u001b[39m Memorise\u001b[39m.\u001b[39mwater\n\u001b[0;32m    541\u001b[0m     \u001b[39mif\u001b[39;00m (water \u001b[39mis\u001b[39;00m \u001b[39mnot\u001b[39;00m \u001b[39mNone\u001b[39;00m \u001b[39mand\u001b[39;00m \u001b[39mnot\u001b[39;00m force_gas \u001b[39mand\u001b[39;00m flow[\u001b[39m3\u001b[39m][water] \u001b[39m>\u001b[39m err):\n",
      "\u001b[1;31mZeroDivisionError\u001b[0m: float division by zero"
     ]
    }
   ],
   "source": [
    "from HPS_vapor_injection import VaporInjectionHeatPumpStudy\n",
    "vapor_injection_study = VaporInjectionHeatPumpStudy(working_fluid=wf, N=3, expansion_device=\"expander\"\n",
    "                                                    ).solve(max_iter=200)\n",
    "print(\"COP: \", vapor_injection_study.calculate_cop())\n",
    "vapor_injection_study.plot_ts_diag(\"output/multistage_ts_diagram\", x_max=3000)"
   ]
  }
 ],
 "metadata": {
  "kernelspec": {
   "display_name": "Python 3",
   "language": "python",
   "name": "python3"
  },
  "language_info": {
   "codemirror_mode": {
    "name": "ipython",
    "version": 3
   },
   "file_extension": ".py",
   "mimetype": "text/x-python",
   "name": "python",
   "nbconvert_exporter": "python",
   "pygments_lexer": "ipython3",
   "version": "3.11.3"
  },
  "orig_nbformat": 4
 },
 "nbformat": 4,
 "nbformat_minor": 2
}
