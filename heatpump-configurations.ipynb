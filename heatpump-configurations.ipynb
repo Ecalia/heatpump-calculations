{
 "cells": [
  {
   "cell_type": "code",
   "execution_count": null,
   "metadata": {},
   "outputs": [],
   "source": [
    "wf=\"R290\""
   ]
  },
  {
   "attachments": {},
   "cell_type": "markdown",
   "metadata": {},
   "source": [
    "# Vapor injection heat pump\n",
    "The goal of this study is to calculate the impact on COP of multiple injections of vapor into the compressor.\n",
    "There are two rationales for this. \n",
    "1. The vapor injection can cool the compressed gas, reducing the energy required for further compression\n",
    "2. The vapor injection can limit the peak temperature to only a few degrees above the condensation temperature, reducing friction and wear on the compressor.\n",
    "\n",
    "In order to achieve most efficient compression, the vapor injection should keep the resulting compression curve as close to the two phase border as possible.\n",
    "\n",
    "The vapor is not used for subcooling but instead directly merged. The study should also compare the performance of two differnt types of expansion device, namely an expansion valve and a turbine."
   ]
  },
  {
   "cell_type": "code",
   "execution_count": 1,
   "metadata": {},
   "outputs": [
    {
     "ename": "NameError",
     "evalue": "name 'wf' is not defined",
     "output_type": "error",
     "traceback": [
      "\u001b[1;31m---------------------------------------------------------------------------\u001b[0m",
      "\u001b[1;31mNameError\u001b[0m                                 Traceback (most recent call last)",
      "Cell \u001b[1;32mIn[1], line 2\u001b[0m\n\u001b[0;32m      1\u001b[0m \u001b[39mimport\u001b[39;00m \u001b[39mVaporInjectionHeatPumpStudy\u001b[39;00m\n\u001b[1;32m----> 2\u001b[0m vapor_injection_study \u001b[39m=\u001b[39m VaporInjectionHeatPumpStudy(working_fluid\u001b[39m=\u001b[39mwf, N\u001b[39m=\u001b[39m\u001b[39m1\u001b[39m, expansion_device\u001b[39m=\u001b[39m\u001b[39m\"\u001b[39m\u001b[39mexpander\u001b[39m\u001b[39m\"\u001b[39m\n\u001b[0;32m      3\u001b[0m                                                     \u001b[39m#).setup_network(iterinfo=True\u001b[39;00m\n\u001b[0;32m      4\u001b[0m                                                     \u001b[39m#).set_boundary_conditions(T_cond=T_cond, T_evap=T_evap\u001b[39;00m\n\u001b[0;32m      5\u001b[0m                                                     )\u001b[39m.\u001b[39msolve(max_iter\u001b[39m=\u001b[39m\u001b[39m200\u001b[39m)\n\u001b[0;32m      6\u001b[0m \u001b[39mprint\u001b[39m(\u001b[39m\"\u001b[39m\u001b[39mCOP: \u001b[39m\u001b[39m\"\u001b[39m, vapor_injection_study\u001b[39m.\u001b[39mcalculate_cop())\n\u001b[0;32m      7\u001b[0m \u001b[39m#multistage_study.print_connections()\u001b[39;00m\n\u001b[0;32m      8\u001b[0m \u001b[39m#multistage_study.plot_logph_diag(\"output/multistage_logph_diagram\")\u001b[39;00m\n",
      "\u001b[1;31mNameError\u001b[0m: name 'wf' is not defined"
     ]
    }
   ],
   "source": [
    "import VaporInjectionHeatPumpStudy\n",
    "vapor_injection_study = VaporInjectionHeatPumpStudy(working_fluid=wf, N=1, expansion_device=\"expander\"\n",
    "                                                    ).solve(max_iter=200)\n",
    "print(\"COP: \", vapor_injection_study.calculate_cop())\n",
    "#multistage_study.print_connections()\n",
    "#multistage_study.plot_logph_diag(\"output/multistage_logph_diagram\")\n",
    "vapor_injection_study.plot_ts_diag(\"output/multistage_ts_diagram\", x_max=3000)"
   ]
  }
 ],
 "metadata": {
  "kernelspec": {
   "display_name": "Python 3",
   "language": "python",
   "name": "python3"
  },
  "language_info": {
   "codemirror_mode": {
    "name": "ipython",
    "version": 3
   },
   "file_extension": ".py",
   "mimetype": "text/x-python",
   "name": "python",
   "nbconvert_exporter": "python",
   "pygments_lexer": "ipython3",
   "version": "3.11.3"
  },
  "orig_nbformat": 4
 },
 "nbformat": 4,
 "nbformat_minor": 2
}
